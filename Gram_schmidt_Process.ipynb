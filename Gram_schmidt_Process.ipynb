{
  "nbformat": 4,
  "nbformat_minor": 0,
  "metadata": {
    "colab": {
      "name": "Gram schmidt Process.ipynb",
      "provenance": [],
      "authorship_tag": "ABX9TyPhM9RYbwkbLpD5Q5ZtQVHV",
      "include_colab_link": true
    },
    "kernelspec": {
      "name": "python3",
      "display_name": "Python 3"
    },
    "language_info": {
      "name": "python"
    }
  },
  "cells": [
    {
      "cell_type": "markdown",
      "metadata": {
        "id": "view-in-github",
        "colab_type": "text"
      },
      "source": [
        "<a href=\"https://colab.research.google.com/github/Sajon-Page/Linear_Algebra_coding_projects/blob/main/Gram_schmidt_Process.ipynb\" target=\"_parent\"><img src=\"https://colab.research.google.com/assets/colab-badge.svg\" alt=\"Open In Colab\"/></a>"
      ]
    },
    {
      "cell_type": "code",
      "execution_count": 2,
      "metadata": {
        "id": "IDdI4lp3Pxj5"
      },
      "outputs": [],
      "source": [
        "import numpy as np\n",
        "from numpy import c_"
      ]
    },
    {
      "cell_type": "code",
      "source": [
        "# wrtie vectors:\n",
        "r1 = np.array([3, 6, 0])\n",
        "r1\n",
        "# dot product of r1 with itself:\n",
        "r1.dot(r1)\n",
        "\n"
      ],
      "metadata": {
        "colab": {
          "base_uri": "https://localhost:8080/"
        },
        "id": "vrEeInG_QJ0H",
        "outputId": "7ac17b48-469e-4a91-bd06-144066d1d512"
      },
      "execution_count": 4,
      "outputs": [
        {
          "output_type": "execute_result",
          "data": {
            "text/plain": [
              "45"
            ]
          },
          "metadata": {},
          "execution_count": 4
        }
      ]
    },
    {
      "cell_type": "code",
      "source": [
        "np.sqrt(45)\n",
        "print(\"this is the square root of 45:\",np.sqrt(45))\n"
      ],
      "metadata": {
        "colab": {
          "base_uri": "https://localhost:8080/"
        },
        "id": "7EOxHS35STw1",
        "outputId": "1b76083d-6d57-4fcc-c048-4948973bb0d9"
      },
      "execution_count": 7,
      "outputs": [
        {
          "output_type": "stream",
          "name": "stdout",
          "text": [
            "this is the square root of 45: 6.708203932499369\n"
          ]
        }
      ]
    },
    {
      "cell_type": "code",
      "source": [
        "# Gram-Schimdt Process using the first vector\n",
        "# Temporary Vector T1\n",
        "T1 = r1 \n",
        "print(\"Our T1 vector is \", T1)\n",
        "\n",
        "# Find the magnitude of T1\n",
        "n1 = np.sqrt(T1.dot(T1))\n",
        "print(\"the size of T1 is |T1| = \", n1)\n",
        "# Renormalize, and creat u1\n",
        "u1 = (1/n1) * T1\n",
        "print(\"u1 = \", u1)"
      ],
      "metadata": {
        "colab": {
          "base_uri": "https://localhost:8080/"
        },
        "id": "fMcghhwHS6h3",
        "outputId": "398ab1d7-5459-4dff-df00-0ff9a3858706"
      },
      "execution_count": 17,
      "outputs": [
        {
          "output_type": "stream",
          "name": "stdout",
          "text": [
            "Our T1 vector is  [3 6 0]\n",
            "the size of T1 is |T1| =  6.708203932499369\n",
            "u1 =  [0.4472136  0.89442719 0.        ]\n"
          ]
        }
      ]
    },
    {
      "cell_type": "code",
      "source": [
        "# Gram-Schimdt Process using the first vector\n",
        "r2 = np.array([6, 2, 0])\n",
        "# Temporary Vector T2\n",
        "\n",
        "T2 = r2 - (r2.dot(u1))*u1\n",
        "print(\"Our T2 vector is \", T2)\n",
        "\n",
        "# Find the magnitude of T2\n",
        "n2 = np.sqrt(T2.dot(T2))\n",
        "print(\"the size of T2 is |T2| = \", n2)\n",
        "# Renormalize, and creat u2\n",
        "u2 = (1/n2) * T2\n",
        "print(\"u2 = \", u2)"
      ],
      "metadata": {
        "colab": {
          "base_uri": "https://localhost:8080/"
        },
        "id": "WCJ0i8mxUlow",
        "outputId": "5c8f55ef-9b01-4931-a82c-06a0ad1d3688"
      },
      "execution_count": 22,
      "outputs": [
        {
          "output_type": "stream",
          "name": "stdout",
          "text": [
            "Our T2 vector is  [ 4. -2.  0.]\n",
            "the size of T2 is |T2| =  4.47213595499958\n",
            "u2 =  [ 0.89442719 -0.4472136   0.        ]\n"
          ]
        }
      ]
    },
    {
      "cell_type": "code",
      "source": [
        "# Gram-Schimdt Process using the first vector\n",
        "r3 = np.array([-4, 2, 0])\n",
        "print(\"our thrid messy vector is\" , r3)\n",
        "# Temporary Vector T3\n",
        "\n",
        "T3 = r3 - (r3.dot(u2))*u2 - (r3.dot(u1))*u1\n",
        "print(\"Our T3 vector is \", T3)\n",
        "\n",
        "# Find the magnitude of T3\n",
        "n3 = np.sqrt(T3.dot(T3))\n",
        "print(\"the size of T3 is |T3| = \", n3)\n",
        "# Renormalize, and creat u3\n",
        "u3 = (1/n3) * T3\n",
        "print(\"u3 = \", u3)"
      ],
      "metadata": {
        "colab": {
          "base_uri": "https://localhost:8080/"
        },
        "id": "bq77MiwfXZHb",
        "outputId": "7a93365c-002a-4320-c084-5d6425e6eb16"
      },
      "execution_count": 29,
      "outputs": [
        {
          "output_type": "stream",
          "name": "stdout",
          "text": [
            "our thrid messy vector is [-4  2  0]\n",
            "Our T3 vector is  [0. 0. 0.]\n",
            "the size of T3 is |T3| =  0.0\n",
            "u3 =  [nan nan nan]\n"
          ]
        },
        {
          "output_type": "stream",
          "name": "stderr",
          "text": [
            "/usr/local/lib/python3.7/dist-packages/ipykernel_launcher.py:13: RuntimeWarning: divide by zero encountered in double_scalars\n",
            "  del sys.path[0]\n",
            "/usr/local/lib/python3.7/dist-packages/ipykernel_launcher.py:13: RuntimeWarning: invalid value encountered in multiply\n",
            "  del sys.path[0]\n"
          ]
        }
      ]
    }
  ]
}